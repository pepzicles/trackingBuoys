{
 "cells": [
  {
   "cell_type": "markdown",
   "id": "0739ece1",
   "metadata": {},
   "source": [
    "# Tracking Buoys\n",
    "last updated Jan 24 2024"
   ]
  },
  {
   "cell_type": "code",
   "execution_count": 1,
   "id": "0a8d3938",
   "metadata": {
    "scrolled": false
   },
   "outputs": [
    {
     "name": "stdout",
     "output_type": "stream",
     "text": [
      "\u001b[33mWARNING: Skipping /Users/pepi/anaconda3/lib/python3.11/site-packages/tokenizers-0.13.3.dist-info due to invalid metadata entry 'name'\u001b[0m\u001b[33m\n",
      "\u001b[0mRequirement already satisfied: buoyant in /Users/pepi/anaconda3/lib/python3.11/site-packages (0.7.0)\n",
      "Requirement already satisfied: requests<3.0,>=2.4.1 in /Users/pepi/anaconda3/lib/python3.11/site-packages (from buoyant) (2.31.0)\n",
      "Requirement already satisfied: pytz>=2015.6 in /Users/pepi/anaconda3/lib/python3.11/site-packages (from buoyant) (2022.7)\n",
      "Requirement already satisfied: charset-normalizer<4,>=2 in /Users/pepi/anaconda3/lib/python3.11/site-packages (from requests<3.0,>=2.4.1->buoyant) (2.0.4)\n",
      "Requirement already satisfied: idna<4,>=2.5 in /Users/pepi/anaconda3/lib/python3.11/site-packages (from requests<3.0,>=2.4.1->buoyant) (3.4)\n",
      "Requirement already satisfied: urllib3<3,>=1.21.1 in /Users/pepi/anaconda3/lib/python3.11/site-packages (from requests<3.0,>=2.4.1->buoyant) (1.26.16)\n",
      "Requirement already satisfied: certifi>=2017.4.17 in /Users/pepi/anaconda3/lib/python3.11/site-packages (from requests<3.0,>=2.4.1->buoyant) (2023.11.17)\n",
      "\u001b[33mWARNING: Skipping /Users/pepi/anaconda3/lib/python3.11/site-packages/tokenizers-0.13.3.dist-info due to invalid metadata entry 'name'\u001b[0m\u001b[33m\n",
      "\u001b[0mNote: you may need to restart the kernel to use updated packages.\n"
     ]
    }
   ],
   "source": [
    "pip install buoyant"
   ]
  },
  {
   "cell_type": "code",
   "execution_count": 2,
   "id": "5dcf61a0",
   "metadata": {},
   "outputs": [],
   "source": [
    "from buoyant import Buoy"
   ]
  },
  {
   "cell_type": "markdown",
   "id": "5e8112f6",
   "metadata": {},
   "source": [
    "# Gives Image URLs"
   ]
  },
  {
   "cell_type": "code",
   "execution_count": 3,
   "id": "32cf7238",
   "metadata": {},
   "outputs": [
    {
     "name": "stdout",
     "output_type": "stream",
     "text": [
      "https://www.ndbc.noaa.gov/buoycam.php?station=44065\n",
      "https://www.ndbc.noaa.gov/buoycam.php?station=46053\n",
      "https://www.ndbc.noaa.gov/buoycam.php?station=46047\n"
     ]
    }
   ],
   "source": [
    "## NEW YORK HARBOUR ENTRANCE BUOY: STATION 44065\n",
    "## https://www.ndbc.noaa.gov/station_page.php?station=44065\n",
    "ny_station = Buoy(44065)\n",
    "print(ny_station.image_url)\n",
    "\n",
    "## EAST SANTA BARBARA: STATION 46053\n",
    "## https://www.ndbc.noaa.gov/station_page.php?station=46053\n",
    "sb_station = Buoy(46053)\n",
    "print(sb_station.image_url)\n",
    "\n",
    "## SAN DIEGO, TANNER BANK: STATION 46047\n",
    "## https://www.ndbc.noaa.gov/station_page.php?station=46047\n",
    "sd_station = Buoy(46047)\n",
    "print(sd_station.image_url)"
   ]
  },
  {
   "cell_type": "markdown",
   "id": "61edbc54",
   "metadata": {},
   "source": [
    "# Get current time and date"
   ]
  },
  {
   "cell_type": "code",
   "execution_count": 4,
   "id": "714ebc23",
   "metadata": {},
   "outputs": [
    {
     "name": "stdout",
     "output_type": "stream",
     "text": [
      "Current Date and Time: 2024-01-24 02:47:21.090098\n"
     ]
    }
   ],
   "source": [
    "import os\n",
    "from datetime import datetime, timedelta\n",
    "\n",
    "current_datetime = datetime.now()\n",
    "print(\"Current Date and Time:\", current_datetime)"
   ]
  },
  {
   "cell_type": "code",
   "execution_count": 14,
   "id": "a0724b8d",
   "metadata": {},
   "outputs": [
    {
     "name": "stdout",
     "output_type": "stream",
     "text": [
      "02:47\n"
     ]
    }
   ],
   "source": [
    "current_time = current_datetime.strftime('%H:%M')\n",
    "print(current_time)"
   ]
  },
  {
   "cell_type": "code",
   "execution_count": 5,
   "id": "a60a3b9f",
   "metadata": {},
   "outputs": [],
   "source": [
    "# Create a new folder every day a new day starts\n",
    "\n",
    "def create_folder_everyday(base_path):\n",
    "    current_date = datetime.now().date()\n",
    "    current_folder_path = os.path.join(base_path, str(current_date))\n",
    "    \n",
    "    #if folder doesnt exist yet\n",
    "    if not os.path.exists(current_folder_path):\n",
    "        os.makedirs(current_folder_path)\n",
    "        print(f\"New folder created: {current_folder_path}\")\n",
    "        \n",
    "    return current_folder_path\n",
    "\n",
    "\n",
    "## Creating new folder every day for each buoy\n",
    "base_path_ny = \"downloadedImages/NY\"\n",
    "base_path_sb = \"downloadedImages/SB\"\n",
    "base_path_sd = \"downloadedImages/SD\"\n",
    "\n",
    "\n",
    "#Call function\n",
    "newFolder_ny = create_folder_everyday(base_path_ny)\n",
    "newFolder_sb = create_folder_everyday(base_path_sb)\n",
    "newFolder_sd = create_folder_everyday(base_path_sd)"
   ]
  },
  {
   "cell_type": "markdown",
   "id": "f021fc83",
   "metadata": {},
   "source": [
    "# Save images"
   ]
  },
  {
   "cell_type": "code",
   "execution_count": 6,
   "id": "35413c27",
   "metadata": {},
   "outputs": [
    {
     "name": "stdout",
     "output_type": "stream",
     "text": [
      "The current working directory is: /Users/pepi/Tracking Buoys\n"
     ]
    }
   ],
   "source": [
    "import urllib.request\n",
    "import os\n",
    "\n",
    "# Get the current working directory\n",
    "current_directory = os.getcwd()\n",
    "\n",
    "print(f\"The current working directory is: {current_directory}\")"
   ]
  },
  {
   "cell_type": "code",
   "execution_count": 7,
   "id": "84560685",
   "metadata": {},
   "outputs": [
    {
     "name": "stdout",
     "output_type": "stream",
     "text": [
      "buoys.ipynb       \u001b[34mdownloadedImages\u001b[m\u001b[m/\r\n"
     ]
    }
   ],
   "source": [
    "ls"
   ]
  },
  {
   "cell_type": "code",
   "execution_count": 19,
   "id": "0aa1019e",
   "metadata": {},
   "outputs": [
    {
     "name": "stdout",
     "output_type": "stream",
     "text": [
      "downloadedImages/NY/2024-01-24\n",
      "Image saved as downloadedImages/NY/2024-01-24/02:47.jpg\n"
     ]
    }
   ],
   "source": [
    "## NEW YORK HARBOUR ENTRANCE BUOY: STATION 44065\n",
    "\n",
    "#Save image as a file as {time}.jpg in the date folder\n",
    "local_filename_ny = f\"{current_time}\"\n",
    "folder_path_ny = f\"{newFolder_ny}\"\n",
    "\n",
    "print(folder_path)\n",
    "\n",
    "# Specify the local filename for saving the image\n",
    "local_filename_ny = os.path.join(folder_path_ny, f\"{local_filename_ny}.jpg\")\n",
    "\n",
    "try:\n",
    "    # Download the image\n",
    "    urllib.request.urlretrieve(ny_station.image_url, local_filename_ny)\n",
    "    print(f\"Image saved as {local_filename_ny}\")\n",
    "except Exception as e:\n",
    "    print(f\"Error downloading image: {e}\")\n"
   ]
  },
  {
   "cell_type": "code",
   "execution_count": 23,
   "id": "ab8c70a5",
   "metadata": {},
   "outputs": [
    {
     "name": "stdout",
     "output_type": "stream",
     "text": [
      "downloadedImages/SB/2024-01-24\n",
      "Image saved as downloadedImages/SB/2024-01-24/02:47.jpg\n"
     ]
    }
   ],
   "source": [
    "## EAST SANTA BARBARA: STATION 46053\n",
    "\n",
    "#Save image as a file as {time}.jpg in the date folder\n",
    "local_filename_sb = f\"{current_time}\"\n",
    "folder_path_sb = f\"{newFolder_sb}\"\n",
    "\n",
    "print(folder_path_sb)\n",
    "\n",
    "# Specify the local filename for saving the image\n",
    "local_filename_sb = os.path.join(folder_path_sb, f\"{local_filename_sb}.jpg\")\n",
    "\n",
    "try:\n",
    "    # Download the image\n",
    "    urllib.request.urlretrieve(sb_station.image_url, local_filename_sb)\n",
    "    print(f\"Image saved as {local_filename_sb}\")\n",
    "except Exception as e:\n",
    "    print(f\"Error downloading image: {e}\")"
   ]
  },
  {
   "cell_type": "code",
   "execution_count": 24,
   "id": "55d48c1e",
   "metadata": {},
   "outputs": [
    {
     "name": "stdout",
     "output_type": "stream",
     "text": [
      "downloadedImages/SB/2024-01-24\n",
      "Image saved as downloadedImages/SB/2024-01-24/02:47.jpg\n"
     ]
    }
   ],
   "source": [
    "## SAN DIEGO, TANNER BANK: STATION 46047\n",
    "\n",
    "#Save image as a file as {time}.jpg in the date folder\n",
    "local_filename_sd = f\"{current_time}\"\n",
    "folder_path_sd = f\"{newFolder_sb}\"\n",
    "\n",
    "print(folder_path_sd)\n",
    "\n",
    "# Specify the local filename for saving the image\n",
    "local_filename_sd = os.path.join(folder_path_sd, f\"{local_filename_sd}.jpg\")\n",
    "\n",
    "try:\n",
    "    # Download the image\n",
    "    urllib.request.urlretrieve(sd_station.image_url, local_filename_sd)\n",
    "    print(f\"Image saved as {local_filename_sd}\")\n",
    "except Exception as e:\n",
    "    print(f\"Error downloading image: {e}\")"
   ]
  }
 ],
 "metadata": {
  "kernelspec": {
   "display_name": "Python 3 (ipykernel)",
   "language": "python",
   "name": "python3"
  },
  "language_info": {
   "codemirror_mode": {
    "name": "ipython",
    "version": 3
   },
   "file_extension": ".py",
   "mimetype": "text/x-python",
   "name": "python",
   "nbconvert_exporter": "python",
   "pygments_lexer": "ipython3",
   "version": "3.11.4"
  }
 },
 "nbformat": 4,
 "nbformat_minor": 5
}
